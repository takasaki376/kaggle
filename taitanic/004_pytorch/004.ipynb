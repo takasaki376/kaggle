{
 "cells": [
  {
   "cell_type": "markdown",
   "id": "9c377a9c",
   "metadata": {},
   "source": [
    "https://www.kaggle.com/code/gotutiyan/titanic-tutorial-pytorch-japanese/notebook"
   ]
  },
  {
   "cell_type": "code",
   "execution_count": 1,
   "id": "216ac7b4",
   "metadata": {},
   "outputs": [],
   "source": [
    "import numpy as np # linear algebra\n",
    "import pandas as pd # data processing, CSV file I/O (e.g. pd.read_csv)\n",
    "import matplotlib.pyplot as plt\n",
    "from sklearn.model_selection import train_test_split\n",
    "import torch\n",
    "import torch.nn as nn\n",
    "import torch.nn.functional as F\n",
    "import torch.optim as optim\n",
    "from torch.utils.data import DataLoader\n",
    "import os\n",
    "import sys\n",
    "sys.path.append(os.pardir)"
   ]
  },
  {
   "cell_type": "code",
   "execution_count": 10,
   "id": "40cb200f",
   "metadata": {},
   "outputs": [],
   "source": [
    "path_train = os.path.join('..', 'train.csv')\n",
    "train_df = pd.read_csv(path_train)\n",
    "path_test = os.path.join('..', 'test.csv')\n",
    "test_df = pd.read_csv(path_test)"
   ]
  },
  {
   "cell_type": "code",
   "execution_count": 11,
   "id": "1ec965cc",
   "metadata": {},
   "outputs": [
    {
     "name": "stdout",
     "output_type": "stream",
     "text": [
      "<class 'pandas.core.frame.DataFrame'>\n",
      "RangeIndex: 891 entries, 0 to 890\n",
      "Data columns (total 12 columns):\n",
      " #   Column       Non-Null Count  Dtype  \n",
      "---  ------       --------------  -----  \n",
      " 0   PassengerId  891 non-null    int64  \n",
      " 1   Survived     891 non-null    int64  \n",
      " 2   Pclass       891 non-null    int64  \n",
      " 3   Name         891 non-null    object \n",
      " 4   Sex          891 non-null    object \n",
      " 5   Age          714 non-null    float64\n",
      " 6   SibSp        891 non-null    int64  \n",
      " 7   Parch        891 non-null    int64  \n",
      " 8   Ticket       891 non-null    object \n",
      " 9   Fare         891 non-null    float64\n",
      " 10  Cabin        204 non-null    object \n",
      " 11  Embarked     889 non-null    object \n",
      "dtypes: float64(2), int64(5), object(5)\n",
      "memory usage: 83.7+ KB\n"
     ]
    }
   ],
   "source": [
    "train_df.info()"
   ]
  },
  {
   "cell_type": "code",
   "execution_count": 12,
   "id": "13241566",
   "metadata": {},
   "outputs": [
    {
     "name": "stdout",
     "output_type": "stream",
     "text": [
      "<class 'pandas.core.frame.DataFrame'>\n",
      "RangeIndex: 418 entries, 0 to 417\n",
      "Data columns (total 11 columns):\n",
      " #   Column       Non-Null Count  Dtype  \n",
      "---  ------       --------------  -----  \n",
      " 0   PassengerId  418 non-null    int64  \n",
      " 1   Pclass       418 non-null    int64  \n",
      " 2   Name         418 non-null    object \n",
      " 3   Sex          418 non-null    object \n",
      " 4   Age          332 non-null    float64\n",
      " 5   SibSp        418 non-null    int64  \n",
      " 6   Parch        418 non-null    int64  \n",
      " 7   Ticket       418 non-null    object \n",
      " 8   Fare         417 non-null    float64\n",
      " 9   Cabin        91 non-null     object \n",
      " 10  Embarked     418 non-null    object \n",
      "dtypes: float64(2), int64(4), object(5)\n",
      "memory usage: 36.0+ KB\n"
     ]
    }
   ],
   "source": [
    "test_df.info()"
   ]
  },
  {
   "cell_type": "markdown",
   "id": "fc6c10df",
   "metadata": {},
   "source": [
    "# 前処理"
   ]
  },
  {
   "cell_type": "code",
   "execution_count": 13,
   "id": "f1afc84b",
   "metadata": {},
   "outputs": [],
   "source": [
    "def process_df(df):\n",
    "    df = df.drop([\"PassengerId\", \"Name\", \"Ticket\", \"Cabin\", \"Embarked\"], axis=1)\n",
    "    df[\"Age\"] = df[\"Age\"].fillna(df[\"Age\"].mean())\n",
    "    df[\"Fare\"] = df[\"Fare\"].fillna(df[\"Fare\"].mean())\n",
    "    df = df.replace(\"male\", 0)\n",
    "    df = df.replace(\"female\", 1)\n",
    "\n",
    "#     col='Fare'\n",
    "#     maxval=df.describe().loc['std',col]\n",
    "#     df.loc[df[col]>maxval , col]=maxval\n",
    "\n",
    "#     col='Parch'\n",
    "#     maxval=df.describe().loc['std',col]\n",
    "#     df.loc[df[col]>maxval , col]=maxval\n",
    "    return df"
   ]
  },
  {
   "cell_type": "code",
   "execution_count": 14,
   "id": "c7079d67",
   "metadata": {},
   "outputs": [
    {
     "data": {
      "text/html": [
       "<div>\n",
       "<style scoped>\n",
       "    .dataframe tbody tr th:only-of-type {\n",
       "        vertical-align: middle;\n",
       "    }\n",
       "\n",
       "    .dataframe tbody tr th {\n",
       "        vertical-align: top;\n",
       "    }\n",
       "\n",
       "    .dataframe thead th {\n",
       "        text-align: right;\n",
       "    }\n",
       "</style>\n",
       "<table border=\"1\" class=\"dataframe\">\n",
       "  <thead>\n",
       "    <tr style=\"text-align: right;\">\n",
       "      <th></th>\n",
       "      <th>Survived</th>\n",
       "      <th>Pclass</th>\n",
       "      <th>Sex</th>\n",
       "      <th>Age</th>\n",
       "      <th>SibSp</th>\n",
       "      <th>Parch</th>\n",
       "      <th>Fare</th>\n",
       "    </tr>\n",
       "  </thead>\n",
       "  <tbody>\n",
       "    <tr>\n",
       "      <th>0</th>\n",
       "      <td>0</td>\n",
       "      <td>3</td>\n",
       "      <td>0</td>\n",
       "      <td>22.0</td>\n",
       "      <td>1</td>\n",
       "      <td>0</td>\n",
       "      <td>7.2500</td>\n",
       "    </tr>\n",
       "    <tr>\n",
       "      <th>1</th>\n",
       "      <td>1</td>\n",
       "      <td>1</td>\n",
       "      <td>1</td>\n",
       "      <td>38.0</td>\n",
       "      <td>1</td>\n",
       "      <td>0</td>\n",
       "      <td>71.2833</td>\n",
       "    </tr>\n",
       "    <tr>\n",
       "      <th>2</th>\n",
       "      <td>1</td>\n",
       "      <td>3</td>\n",
       "      <td>1</td>\n",
       "      <td>26.0</td>\n",
       "      <td>0</td>\n",
       "      <td>0</td>\n",
       "      <td>7.9250</td>\n",
       "    </tr>\n",
       "    <tr>\n",
       "      <th>3</th>\n",
       "      <td>1</td>\n",
       "      <td>1</td>\n",
       "      <td>1</td>\n",
       "      <td>35.0</td>\n",
       "      <td>1</td>\n",
       "      <td>0</td>\n",
       "      <td>53.1000</td>\n",
       "    </tr>\n",
       "    <tr>\n",
       "      <th>4</th>\n",
       "      <td>0</td>\n",
       "      <td>3</td>\n",
       "      <td>0</td>\n",
       "      <td>35.0</td>\n",
       "      <td>0</td>\n",
       "      <td>0</td>\n",
       "      <td>8.0500</td>\n",
       "    </tr>\n",
       "  </tbody>\n",
       "</table>\n",
       "</div>"
      ],
      "text/plain": [
       "   Survived  Pclass  Sex   Age  SibSp  Parch     Fare\n",
       "0         0       3    0  22.0      1      0   7.2500\n",
       "1         1       1    1  38.0      1      0  71.2833\n",
       "2         1       3    1  26.0      0      0   7.9250\n",
       "3         1       1    1  35.0      1      0  53.1000\n",
       "4         0       3    0  35.0      0      0   8.0500"
      ]
     },
     "execution_count": 14,
     "metadata": {},
     "output_type": "execute_result"
    }
   ],
   "source": [
    "train_process_df = process_df(train_df)\n",
    "train_process_df.head()"
   ]
  },
  {
   "cell_type": "code",
   "execution_count": 15,
   "id": "f6a2a32e",
   "metadata": {},
   "outputs": [
    {
     "data": {
      "text/html": [
       "<div>\n",
       "<style scoped>\n",
       "    .dataframe tbody tr th:only-of-type {\n",
       "        vertical-align: middle;\n",
       "    }\n",
       "\n",
       "    .dataframe tbody tr th {\n",
       "        vertical-align: top;\n",
       "    }\n",
       "\n",
       "    .dataframe thead th {\n",
       "        text-align: right;\n",
       "    }\n",
       "</style>\n",
       "<table border=\"1\" class=\"dataframe\">\n",
       "  <thead>\n",
       "    <tr style=\"text-align: right;\">\n",
       "      <th></th>\n",
       "      <th>Pclass</th>\n",
       "      <th>Sex</th>\n",
       "      <th>Age</th>\n",
       "      <th>SibSp</th>\n",
       "      <th>Parch</th>\n",
       "      <th>Fare</th>\n",
       "    </tr>\n",
       "  </thead>\n",
       "  <tbody>\n",
       "    <tr>\n",
       "      <th>0</th>\n",
       "      <td>3</td>\n",
       "      <td>0</td>\n",
       "      <td>34.5</td>\n",
       "      <td>0</td>\n",
       "      <td>0</td>\n",
       "      <td>7.8292</td>\n",
       "    </tr>\n",
       "    <tr>\n",
       "      <th>1</th>\n",
       "      <td>3</td>\n",
       "      <td>1</td>\n",
       "      <td>47.0</td>\n",
       "      <td>1</td>\n",
       "      <td>0</td>\n",
       "      <td>7.0000</td>\n",
       "    </tr>\n",
       "    <tr>\n",
       "      <th>2</th>\n",
       "      <td>2</td>\n",
       "      <td>0</td>\n",
       "      <td>62.0</td>\n",
       "      <td>0</td>\n",
       "      <td>0</td>\n",
       "      <td>9.6875</td>\n",
       "    </tr>\n",
       "    <tr>\n",
       "      <th>3</th>\n",
       "      <td>3</td>\n",
       "      <td>0</td>\n",
       "      <td>27.0</td>\n",
       "      <td>0</td>\n",
       "      <td>0</td>\n",
       "      <td>8.6625</td>\n",
       "    </tr>\n",
       "    <tr>\n",
       "      <th>4</th>\n",
       "      <td>3</td>\n",
       "      <td>1</td>\n",
       "      <td>22.0</td>\n",
       "      <td>1</td>\n",
       "      <td>1</td>\n",
       "      <td>12.2875</td>\n",
       "    </tr>\n",
       "  </tbody>\n",
       "</table>\n",
       "</div>"
      ],
      "text/plain": [
       "   Pclass  Sex   Age  SibSp  Parch     Fare\n",
       "0       3    0  34.5      0      0   7.8292\n",
       "1       3    1  47.0      1      0   7.0000\n",
       "2       2    0  62.0      0      0   9.6875\n",
       "3       3    0  27.0      0      0   8.6625\n",
       "4       3    1  22.0      1      1  12.2875"
      ]
     },
     "execution_count": 15,
     "metadata": {},
     "output_type": "execute_result"
    }
   ],
   "source": [
    "test_process_df = process_df(test_df)\n",
    "test_process_df.head()"
   ]
  },
  {
   "cell_type": "markdown",
   "id": "cc50bff7",
   "metadata": {},
   "source": [
    "# データセット"
   ]
  },
  {
   "cell_type": "code",
   "execution_count": 16,
   "id": "dbfdb9a4",
   "metadata": {},
   "outputs": [
    {
     "data": {
      "text/plain": [
       "891"
      ]
     },
     "execution_count": 16,
     "metadata": {},
     "output_type": "execute_result"
    }
   ],
   "source": [
    "class Dataset:\n",
    "    def __init__(self, df):\n",
    "        self.df = df\n",
    "        self.X = self.df.drop([\"Survived\"], axis=1)\n",
    "        self.Y = self.df[\"Survived\"]\n",
    "    \n",
    "    def __len__(self):\n",
    "        return self.df.shape[0]\n",
    "    \n",
    "    def __getitem__(self, idx):\n",
    "#         print(type(self.X.iloc[idx,:]))\n",
    "#         print(type(self.Y.iloc[idx]))\n",
    "        return self.X.iloc[idx,:].values, self.Y.iloc[idx]\n",
    "\n",
    "train_dataset = Dataset(train_process_df)\n",
    "len(train_dataset)\n"
   ]
  },
  {
   "cell_type": "code",
   "execution_count": 17,
   "id": "c37795e3",
   "metadata": {},
   "outputs": [
    {
     "data": {
      "text/plain": [
       "418"
      ]
     },
     "execution_count": 17,
     "metadata": {},
     "output_type": "execute_result"
    }
   ],
   "source": [
    "class TestDataset:\n",
    "    def __init__(self, df):\n",
    "        self.df = df\n",
    "    \n",
    "    def __len__(self):\n",
    "        return self.df.shape[0]\n",
    "    \n",
    "    def __getitem__(self, idx):\n",
    "        return self.X.iloc[idx,:].values, \n",
    "\n",
    "test_dataset = TestDataset(test_process_df)\n",
    "len(test_dataset)"
   ]
  },
  {
   "cell_type": "code",
   "execution_count": 18,
   "id": "fe9e83d9",
   "metadata": {
    "scrolled": true
   },
   "outputs": [
    {
     "name": "stdout",
     "output_type": "stream",
     "text": [
      "tensor([[  3.0000,   0.0000,  45.0000,   0.0000,   0.0000,   8.0500],\n",
      "        [  2.0000,   1.0000,  50.0000,   0.0000,   1.0000,  26.0000],\n",
      "        [  3.0000,   0.0000,   7.0000,   4.0000,   1.0000,  29.1250],\n",
      "        [  1.0000,   0.0000,  64.0000,   0.0000,   0.0000,  26.0000],\n",
      "        [  1.0000,   1.0000,  51.0000,   1.0000,   0.0000,  77.9583],\n",
      "        [  1.0000,   1.0000,  58.0000,   0.0000,   1.0000, 153.4625],\n",
      "        [  3.0000,   1.0000,  22.0000,   0.0000,   0.0000,   7.7750],\n",
      "        [  2.0000,   0.0000,  31.0000,   1.0000,   1.0000,  26.2500],\n",
      "        [  1.0000,   0.0000,  42.0000,   0.0000,   0.0000,  26.2875],\n",
      "        [  3.0000,   0.0000,  29.6991,   0.0000,   0.0000,  14.5000],\n",
      "        [  3.0000,   0.0000,  33.0000,   0.0000,   0.0000,   7.8958],\n",
      "        [  3.0000,   0.0000,  32.0000,   0.0000,   0.0000,   8.3625],\n",
      "        [  1.0000,   0.0000,  48.0000,   1.0000,   0.0000,  76.7292],\n",
      "        [  3.0000,   1.0000,  17.0000,   0.0000,   0.0000,  14.4583],\n",
      "        [  1.0000,   1.0000,  36.0000,   0.0000,   0.0000, 135.6333],\n",
      "        [  1.0000,   0.0000,  46.0000,   1.0000,   0.0000,  61.1750],\n",
      "        [  3.0000,   0.0000,  29.6991,   0.0000,   0.0000,   7.8958],\n",
      "        [  3.0000,   1.0000,  29.6991,   1.0000,   0.0000,  15.5000],\n",
      "        [  1.0000,   0.0000,  27.0000,   0.0000,   0.0000,  30.5000],\n",
      "        [  1.0000,   1.0000,  54.0000,   1.0000,   0.0000,  78.2667],\n",
      "        [  3.0000,   0.0000,  18.0000,   0.0000,   0.0000,   8.0500],\n",
      "        [  3.0000,   0.0000,  16.0000,   4.0000,   1.0000,  39.6875],\n",
      "        [  1.0000,   0.0000,  23.0000,   0.0000,   1.0000,  63.3583],\n",
      "        [  1.0000,   1.0000,  24.0000,   0.0000,   0.0000,  83.1583],\n",
      "        [  1.0000,   0.0000,  71.0000,   0.0000,   0.0000,  34.6542],\n",
      "        [  3.0000,   0.0000,  29.0000,   0.0000,   0.0000,   7.8750],\n",
      "        [  1.0000,   1.0000,  22.0000,   1.0000,   0.0000,  66.6000],\n",
      "        [  1.0000,   0.0000,  18.0000,   1.0000,   0.0000, 108.9000],\n",
      "        [  3.0000,   1.0000,   5.0000,   0.0000,   0.0000,  12.4750],\n",
      "        [  3.0000,   0.0000,  21.0000,   0.0000,   0.0000,   7.8000],\n",
      "        [  1.0000,   0.0000,  45.0000,   0.0000,   0.0000,  35.5000],\n",
      "        [  3.0000,   1.0000,  29.6991,   0.0000,   0.0000,   7.7875],\n",
      "        [  2.0000,   0.0000,  48.0000,   0.0000,   0.0000,  13.0000],\n",
      "        [  3.0000,   0.0000,  30.0000,   0.0000,   0.0000,   7.2250],\n",
      "        [  1.0000,   1.0000,  63.0000,   1.0000,   0.0000,  77.9583],\n",
      "        [  3.0000,   0.0000,  29.6991,   0.0000,   0.0000,   7.7500],\n",
      "        [  1.0000,   1.0000,  24.0000,   0.0000,   0.0000,  69.3000],\n",
      "        [  3.0000,   0.0000,  39.0000,   1.0000,   5.0000,  31.2750],\n",
      "        [  2.0000,   0.0000,  19.0000,   0.0000,   0.0000,  13.0000],\n",
      "        [  3.0000,   0.0000,  35.0000,   0.0000,   0.0000,   7.8958],\n",
      "        [  3.0000,   0.0000,  29.6991,   1.0000,   2.0000,  23.4500],\n",
      "        [  1.0000,   1.0000,  58.0000,   0.0000,   0.0000,  26.5500],\n",
      "        [  3.0000,   1.0000,  29.6991,   3.0000,   1.0000,  25.4667],\n",
      "        [  3.0000,   1.0000,  29.6991,   0.0000,   0.0000,   7.7500],\n",
      "        [  2.0000,   0.0000,  31.0000,   0.0000,   0.0000,  10.5000],\n",
      "        [  3.0000,   0.0000,   4.0000,   4.0000,   2.0000,  31.2750],\n",
      "        [  3.0000,   0.0000,  26.0000,   1.0000,   2.0000,  20.5750],\n",
      "        [  3.0000,   0.0000,  28.0000,   0.0000,   0.0000,   7.8542],\n",
      "        [  1.0000,   1.0000,  22.0000,   0.0000,   2.0000,  49.5000],\n",
      "        [  3.0000,   0.0000,  29.6991,   0.0000,   0.0000,   7.7500]],\n",
      "       dtype=torch.float64) tensor([1, 1, 0, 0, 1, 1, 1, 0, 1, 0, 0, 0, 1, 0, 1, 0, 0, 1, 1, 1, 1, 0, 1, 1,\n",
      "        0, 0, 1, 0, 1, 0, 0, 1, 0, 0, 1, 0, 1, 0, 0, 0, 0, 1, 0, 1, 0, 0, 0, 0,\n",
      "        1, 0])\n",
      "len 50\n"
     ]
    }
   ],
   "source": [
    "BATCH_SIZE = 50\n",
    "train_dataloader = DataLoader(train_dataset, batch_size=BATCH_SIZE, shuffle=True, drop_last=True)\n",
    "\n",
    "# xに入力，yにラベルが入る\n",
    "for x,y in train_dataloader:\n",
    "    print(x,y)\n",
    "    print(\"len\",len(y))\n",
    "    break\n"
   ]
  },
  {
   "cell_type": "markdown",
   "id": "2c3ff731",
   "metadata": {},
   "source": [
    "# モデル定義"
   ]
  },
  {
   "cell_type": "code",
   "execution_count": 19,
   "id": "1e049808",
   "metadata": {},
   "outputs": [],
   "source": [
    "class Net(nn.Module):\n",
    "    def __init__(self, input_sz, hidden_sz, out_sz):\n",
    "        super(Net, self).__init__()\n",
    "        self.f1 = nn.Linear(input_sz, hidden_sz)\n",
    "        self.bn1 = nn.BatchNorm1d(hidden_sz) #バッチ正規化\n",
    "        self.f2 = nn.Linear(hidden_sz, out_sz)\n",
    "        \n",
    "        #self.dropout = nn.Dropout(0.25)  # ドロップアウト\n",
    "\n",
    "    def forward(self, x):\n",
    "        x = F.relu(self.f1(x))\n",
    "        x = self.bn1(x) #バッチ正規化を行う\n",
    "        #x = self.dropout(x)\n",
    "        y = self.f2(x)\n",
    "        \n",
    "        return y\n",
    "\n",
    "input_sz = 6\n",
    "hidden_sz = 3\n",
    "out_sz = 2\n",
    "net = Net(input_sz, hidden_sz, out_sz)\n"
   ]
  },
  {
   "cell_type": "markdown",
   "id": "88f92393",
   "metadata": {},
   "source": [
    "# 学習"
   ]
  },
  {
   "cell_type": "code",
   "execution_count": 20,
   "id": "93fe0caf",
   "metadata": {},
   "outputs": [],
   "source": [
    "learning_rate = 0.01\n",
    "loss_func = nn.MSELoss(reduction=\"sum\")\n",
    "optimizer = optim.Adam(net.parameters(), lr=learning_rate)\n",
    "epoch = 32\n",
    "def train():\n",
    "    for e in range(epoch):\n",
    "        for X, labels in train_dataloader:\n",
    "            T = convert_label_to_onehot(labels)\n",
    "            y = F.softmax(net(X.float()), dim=1)\n",
    "            loss = loss_func(y, torch.FloatTensor(T))\n",
    "            loss.backward()\n",
    "            optimizer.step()\n",
    "            \n",
    "def convert_label_to_onehot(labels):\n",
    "    onehot = np.zeros((len(labels), 2))\n",
    "    idx = [(i, t.item()) for i, t in enumerate(labels)]\n",
    "    for i in idx:\n",
    "        onehot[i] = 1\n",
    "    return onehot\n",
    "\n",
    "train()\n"
   ]
  },
  {
   "cell_type": "markdown",
   "id": "15d50199",
   "metadata": {},
   "source": [
    "# テスト"
   ]
  },
  {
   "cell_type": "code",
   "execution_count": 21,
   "id": "f227e377",
   "metadata": {},
   "outputs": [
    {
     "data": {
      "text/plain": [
       "Net(\n",
       "  (f1): Linear(in_features=6, out_features=3, bias=True)\n",
       "  (bn1): BatchNorm1d(3, eps=1e-05, momentum=0.1, affine=True, track_running_stats=True)\n",
       "  (f2): Linear(in_features=3, out_features=2, bias=True)\n",
       ")"
      ]
     },
     "execution_count": 21,
     "metadata": {},
     "output_type": "execute_result"
    }
   ],
   "source": [
    "# 学習を行わないモードに変更\n",
    "net.eval()"
   ]
  },
  {
   "cell_type": "code",
   "execution_count": 22,
   "id": "d1c0b8d6",
   "metadata": {},
   "outputs": [
    {
     "name": "stdout",
     "output_type": "stream",
     "text": [
      "max\t tensor([0.9000, 0.8000, 0.6000])\n",
      "argmax\t tensor([1, 1, 0])\n"
     ]
    }
   ],
   "source": [
    "# torch.max()の簡単な説明\n",
    "prob = torch.tensor([[0.1, 0.9],\n",
    "                    [0.2, 0.8],\n",
    "                    [0.6, 0.4]])\n",
    "max, argmax = torch.max(prob, dim=1)\n",
    "print(\"max\\t\",max)\n",
    "print(\"argmax\\t\",argmax)"
   ]
  },
  {
   "cell_type": "markdown",
   "id": "9396cabd",
   "metadata": {},
   "source": [
    "# 予測"
   ]
  },
  {
   "cell_type": "code",
   "execution_count": 23,
   "id": "3eac867c",
   "metadata": {},
   "outputs": [
    {
     "name": "stdout",
     "output_type": "stream",
     "text": [
      "     PassengerId  Survived\n",
      "0            892         0\n",
      "1            893         0\n",
      "2            894         0\n",
      "3            895         0\n",
      "4            896         0\n",
      "..           ...       ...\n",
      "413         1305         0\n",
      "414         1306         1\n",
      "415         1307         0\n",
      "416         1308         0\n",
      "417         1309         0\n",
      "\n",
      "[418 rows x 2 columns]\n"
     ]
    }
   ],
   "source": [
    "def test():\n",
    "    test_X = torch.tensor(test_process_df.iloc[:,:].values)\n",
    "    test_Y = net(test_X.float())\n",
    "    survived = torch.max(test_Y, dim=1)[1]\n",
    "    sub_df = pd.DataFrame({\n",
    "                    \"PassengerId\":test_df['PassengerId'],\n",
    "                    \"Survived\":survived\n",
    "    })\n",
    "    print(sub_df)\n",
    "    return sub_df\n",
    "    \n",
    "sub_df = test()\n",
    "sub_df.to_csv(\"./submission.csv\", index=False)\n"
   ]
  },
  {
   "cell_type": "markdown",
   "id": "4d0d0565",
   "metadata": {},
   "source": [
    "Score: 0.65550"
   ]
  },
  {
   "cell_type": "code",
   "execution_count": null,
   "id": "aa17fd1e",
   "metadata": {},
   "outputs": [],
   "source": []
  }
 ],
 "metadata": {
  "kernelspec": {
   "display_name": "Python 3 (ipykernel)",
   "language": "python",
   "name": "python3"
  },
  "language_info": {
   "codemirror_mode": {
    "name": "ipython",
    "version": 3
   },
   "file_extension": ".py",
   "mimetype": "text/x-python",
   "name": "python",
   "nbconvert_exporter": "python",
   "pygments_lexer": "ipython3",
   "version": "3.9.7"
  }
 },
 "nbformat": 4,
 "nbformat_minor": 5
}
