{
 "cells": [
  {
   "cell_type": "markdown",
   "id": "9c377a9c",
   "metadata": {},
   "source": [
    "https://www.kaggle.com/code/gotutiyan/titanic-tutorial-pytorch-japanese/notebook"
   ]
  },
  {
   "cell_type": "code",
   "execution_count": 1,
   "id": "216ac7b4",
   "metadata": {},
   "outputs": [],
   "source": [
    "import numpy as np # linear algebra\n",
    "import pandas as pd # data processing, CSV file I/O (e.g. pd.read_csv)\n",
    "import matplotlib as mpl\n",
    "import matplotlib.pyplot as plt\n",
    "import torch\n",
    "import torch.nn as nn\n",
    "import torch.nn.functional as F\n",
    "import torch.optim as optim\n",
    "import torchvision\n",
    "from torch.utils.data import DataLoader\n",
    "from torchvision import datasets\n",
    "import torchvision.transforms as transforms\n",
    "import os\n",
    "import time\n",
    "import sys\n",
    "import torch.quantization\n",
    "sys.path.append(os.pardir)"
   ]
  },
  {
   "cell_type": "code",
   "execution_count": 20,
   "id": "40cb200f",
   "metadata": {},
   "outputs": [],
   "source": [
    "path_train = os.path.join('..', 'train.csv')\n",
    "path_test = os.path.join('..', 'test.csv')\n",
    "train_df = pd.read_csv(path_train)\n",
    "test_df = pd.read_csv(path_test)"
   ]
  },
  {
   "cell_type": "code",
   "execution_count": 21,
   "id": "1ec965cc",
   "metadata": {},
   "outputs": [
    {
     "name": "stdout",
     "output_type": "stream",
     "text": [
      "<class 'pandas.core.frame.DataFrame'>\n",
      "RangeIndex: 891 entries, 0 to 890\n",
      "Data columns (total 12 columns):\n",
      " #   Column       Non-Null Count  Dtype  \n",
      "---  ------       --------------  -----  \n",
      " 0   PassengerId  891 non-null    int64  \n",
      " 1   Survived     891 non-null    int64  \n",
      " 2   Pclass       891 non-null    int64  \n",
      " 3   Name         891 non-null    object \n",
      " 4   Sex          891 non-null    object \n",
      " 5   Age          714 non-null    float64\n",
      " 6   SibSp        891 non-null    int64  \n",
      " 7   Parch        891 non-null    int64  \n",
      " 8   Ticket       891 non-null    object \n",
      " 9   Fare         891 non-null    float64\n",
      " 10  Cabin        204 non-null    object \n",
      " 11  Embarked     889 non-null    object \n",
      "dtypes: float64(2), int64(5), object(5)\n",
      "memory usage: 83.7+ KB\n"
     ]
    }
   ],
   "source": [
    "train_df.info()\n"
   ]
  },
  {
   "cell_type": "code",
   "execution_count": 23,
   "id": "13241566",
   "metadata": {},
   "outputs": [
    {
     "name": "stdout",
     "output_type": "stream",
     "text": [
      "<class 'pandas.core.frame.DataFrame'>\n",
      "RangeIndex: 418 entries, 0 to 417\n",
      "Data columns (total 11 columns):\n",
      " #   Column       Non-Null Count  Dtype  \n",
      "---  ------       --------------  -----  \n",
      " 0   PassengerId  418 non-null    int64  \n",
      " 1   Pclass       418 non-null    int64  \n",
      " 2   Name         418 non-null    object \n",
      " 3   Sex          418 non-null    object \n",
      " 4   Age          332 non-null    float64\n",
      " 5   SibSp        418 non-null    int64  \n",
      " 6   Parch        418 non-null    int64  \n",
      " 7   Ticket       418 non-null    object \n",
      " 8   Fare         417 non-null    float64\n",
      " 9   Cabin        91 non-null     object \n",
      " 10  Embarked     418 non-null    object \n",
      "dtypes: float64(2), int64(4), object(5)\n",
      "memory usage: 36.0+ KB\n"
     ]
    }
   ],
   "source": [
    "test_df.info()"
   ]
  },
  {
   "cell_type": "markdown",
   "id": "fc6c10df",
   "metadata": {},
   "source": [
    "# 前処理"
   ]
  },
  {
   "cell_type": "code",
   "execution_count": 35,
   "id": "f1afc84b",
   "metadata": {},
   "outputs": [],
   "source": [
    "def process_df(df):\n",
    "    df = df.drop([\"PassengerId\", \"Name\", \"Ticket\", \"Cabin\", \"Embarked\"], axis=1)\n",
    "    df[\"Age\"] = df[\"Age\"].fillna(df[\"Age\"].mean())\n",
    "    df[\"Fare\"] = df[\"Fare\"].fillna(df[\"Fare\"].mean())\n",
    "    df = df.replace(\"male\", 0)\n",
    "    df = df.replace(\"female\", 1)\n",
    "    return df\n"
   ]
  },
  {
   "cell_type": "code",
   "execution_count": 36,
   "id": "c7079d67",
   "metadata": {},
   "outputs": [
    {
     "data": {
      "text/html": [
       "<div>\n",
       "<style scoped>\n",
       "    .dataframe tbody tr th:only-of-type {\n",
       "        vertical-align: middle;\n",
       "    }\n",
       "\n",
       "    .dataframe tbody tr th {\n",
       "        vertical-align: top;\n",
       "    }\n",
       "\n",
       "    .dataframe thead th {\n",
       "        text-align: right;\n",
       "    }\n",
       "</style>\n",
       "<table border=\"1\" class=\"dataframe\">\n",
       "  <thead>\n",
       "    <tr style=\"text-align: right;\">\n",
       "      <th></th>\n",
       "      <th>Survived</th>\n",
       "      <th>Pclass</th>\n",
       "      <th>Sex</th>\n",
       "      <th>Age</th>\n",
       "      <th>SibSp</th>\n",
       "      <th>Parch</th>\n",
       "      <th>Fare</th>\n",
       "    </tr>\n",
       "  </thead>\n",
       "  <tbody>\n",
       "    <tr>\n",
       "      <th>0</th>\n",
       "      <td>0</td>\n",
       "      <td>3</td>\n",
       "      <td>0</td>\n",
       "      <td>22.0</td>\n",
       "      <td>1</td>\n",
       "      <td>0</td>\n",
       "      <td>7.2500</td>\n",
       "    </tr>\n",
       "    <tr>\n",
       "      <th>1</th>\n",
       "      <td>1</td>\n",
       "      <td>1</td>\n",
       "      <td>1</td>\n",
       "      <td>38.0</td>\n",
       "      <td>1</td>\n",
       "      <td>0</td>\n",
       "      <td>71.2833</td>\n",
       "    </tr>\n",
       "    <tr>\n",
       "      <th>2</th>\n",
       "      <td>1</td>\n",
       "      <td>3</td>\n",
       "      <td>1</td>\n",
       "      <td>26.0</td>\n",
       "      <td>0</td>\n",
       "      <td>0</td>\n",
       "      <td>7.9250</td>\n",
       "    </tr>\n",
       "    <tr>\n",
       "      <th>3</th>\n",
       "      <td>1</td>\n",
       "      <td>1</td>\n",
       "      <td>1</td>\n",
       "      <td>35.0</td>\n",
       "      <td>1</td>\n",
       "      <td>0</td>\n",
       "      <td>53.1000</td>\n",
       "    </tr>\n",
       "    <tr>\n",
       "      <th>4</th>\n",
       "      <td>0</td>\n",
       "      <td>3</td>\n",
       "      <td>0</td>\n",
       "      <td>35.0</td>\n",
       "      <td>0</td>\n",
       "      <td>0</td>\n",
       "      <td>8.0500</td>\n",
       "    </tr>\n",
       "  </tbody>\n",
       "</table>\n",
       "</div>"
      ],
      "text/plain": [
       "   Survived  Pclass  Sex   Age  SibSp  Parch     Fare\n",
       "0         0       3    0  22.0      1      0   7.2500\n",
       "1         1       1    1  38.0      1      0  71.2833\n",
       "2         1       3    1  26.0      0      0   7.9250\n",
       "3         1       1    1  35.0      1      0  53.1000\n",
       "4         0       3    0  35.0      0      0   8.0500"
      ]
     },
     "execution_count": 36,
     "metadata": {},
     "output_type": "execute_result"
    }
   ],
   "source": [
    "train_process_df = process_df(train_df)\n",
    "test_process_df = process_df(test_df)\n",
    "train_process_df.head()\n"
   ]
  },
  {
   "cell_type": "code",
   "execution_count": 37,
   "id": "f6a2a32e",
   "metadata": {},
   "outputs": [
    {
     "data": {
      "text/html": [
       "<div>\n",
       "<style scoped>\n",
       "    .dataframe tbody tr th:only-of-type {\n",
       "        vertical-align: middle;\n",
       "    }\n",
       "\n",
       "    .dataframe tbody tr th {\n",
       "        vertical-align: top;\n",
       "    }\n",
       "\n",
       "    .dataframe thead th {\n",
       "        text-align: right;\n",
       "    }\n",
       "</style>\n",
       "<table border=\"1\" class=\"dataframe\">\n",
       "  <thead>\n",
       "    <tr style=\"text-align: right;\">\n",
       "      <th></th>\n",
       "      <th>Pclass</th>\n",
       "      <th>Sex</th>\n",
       "      <th>Age</th>\n",
       "      <th>SibSp</th>\n",
       "      <th>Parch</th>\n",
       "      <th>Fare</th>\n",
       "    </tr>\n",
       "  </thead>\n",
       "  <tbody>\n",
       "    <tr>\n",
       "      <th>0</th>\n",
       "      <td>3</td>\n",
       "      <td>0</td>\n",
       "      <td>34.5</td>\n",
       "      <td>0</td>\n",
       "      <td>0</td>\n",
       "      <td>7.8292</td>\n",
       "    </tr>\n",
       "    <tr>\n",
       "      <th>1</th>\n",
       "      <td>3</td>\n",
       "      <td>1</td>\n",
       "      <td>47.0</td>\n",
       "      <td>1</td>\n",
       "      <td>0</td>\n",
       "      <td>7.0000</td>\n",
       "    </tr>\n",
       "    <tr>\n",
       "      <th>2</th>\n",
       "      <td>2</td>\n",
       "      <td>0</td>\n",
       "      <td>62.0</td>\n",
       "      <td>0</td>\n",
       "      <td>0</td>\n",
       "      <td>9.6875</td>\n",
       "    </tr>\n",
       "    <tr>\n",
       "      <th>3</th>\n",
       "      <td>3</td>\n",
       "      <td>0</td>\n",
       "      <td>27.0</td>\n",
       "      <td>0</td>\n",
       "      <td>0</td>\n",
       "      <td>8.6625</td>\n",
       "    </tr>\n",
       "    <tr>\n",
       "      <th>4</th>\n",
       "      <td>3</td>\n",
       "      <td>1</td>\n",
       "      <td>22.0</td>\n",
       "      <td>1</td>\n",
       "      <td>1</td>\n",
       "      <td>12.2875</td>\n",
       "    </tr>\n",
       "  </tbody>\n",
       "</table>\n",
       "</div>"
      ],
      "text/plain": [
       "   Pclass  Sex   Age  SibSp  Parch     Fare\n",
       "0       3    0  34.5      0      0   7.8292\n",
       "1       3    1  47.0      1      0   7.0000\n",
       "2       2    0  62.0      0      0   9.6875\n",
       "3       3    0  27.0      0      0   8.6625\n",
       "4       3    1  22.0      1      1  12.2875"
      ]
     },
     "execution_count": 37,
     "metadata": {},
     "output_type": "execute_result"
    }
   ],
   "source": [
    "test_process_df.head()"
   ]
  },
  {
   "cell_type": "markdown",
   "id": "cc50bff7",
   "metadata": {},
   "source": [
    "# データセット"
   ]
  },
  {
   "cell_type": "code",
   "execution_count": 38,
   "id": "dbfdb9a4",
   "metadata": {},
   "outputs": [
    {
     "data": {
      "text/plain": [
       "891"
      ]
     },
     "execution_count": 38,
     "metadata": {},
     "output_type": "execute_result"
    }
   ],
   "source": [
    "class Dataset:\n",
    "    def __init__(self, df):\n",
    "        self.df = df\n",
    "        self.X = self.df.drop([\"Survived\"], axis=1)\n",
    "        self.Y = self.df[\"Survived\"]\n",
    "    \n",
    "    def __len__(self):\n",
    "        return self.df.shape[0]\n",
    "    \n",
    "    def __getitem__(self, idx):\n",
    "#         print(type(self.X.iloc[idx,:]))\n",
    "#         print(type(self.Y.iloc[idx]))\n",
    "        return self.X.iloc[idx,:].values, self.Y.iloc[idx]\n",
    "\n",
    "train_dataset = Dataset(train_process_df)\n",
    "len(train_dataset)\n"
   ]
  },
  {
   "cell_type": "code",
   "execution_count": 39,
   "id": "c37795e3",
   "metadata": {},
   "outputs": [
    {
     "data": {
      "text/plain": [
       "418"
      ]
     },
     "execution_count": 39,
     "metadata": {},
     "output_type": "execute_result"
    }
   ],
   "source": [
    "class TestDataset:\n",
    "    def __init__(self, df):\n",
    "        self.df = df\n",
    "    \n",
    "    def __len__(self):\n",
    "        return self.df.shape[0]\n",
    "    \n",
    "    def __getitem__(self, idx):\n",
    "        return self.X.iloc[idx,:].values, \n",
    "\n",
    "test_dataset = TestDataset(test_process_df)\n",
    "len(test_dataset)"
   ]
  },
  {
   "cell_type": "code",
   "execution_count": 47,
   "id": "fe9e83d9",
   "metadata": {
    "scrolled": true
   },
   "outputs": [
    {
     "name": "stdout",
     "output_type": "stream",
     "text": [
      "tensor([[  2.0000,   0.0000,  24.0000,   0.0000,   0.0000,  10.5000],\n",
      "        [  2.0000,   0.0000,  36.0000,   0.0000,   0.0000,  10.5000],\n",
      "        [  3.0000,   0.0000,  29.0000,   0.0000,   0.0000,   9.5000],\n",
      "        [  2.0000,   1.0000,  19.0000,   1.0000,   0.0000,  26.0000],\n",
      "        [  1.0000,   0.0000,  65.0000,   0.0000,   1.0000,  61.9792],\n",
      "        [  1.0000,   0.0000,  55.0000,   0.0000,   0.0000,  30.5000],\n",
      "        [  2.0000,   1.0000,  17.0000,   0.0000,   0.0000,  10.5000],\n",
      "        [  3.0000,   0.0000,  29.6991,   0.0000,   0.0000,   7.7292],\n",
      "        [  3.0000,   0.0000,  29.6991,   0.0000,   0.0000,   7.7375],\n",
      "        [  3.0000,   0.0000,  21.0000,   0.0000,   0.0000,  16.1000],\n",
      "        [  2.0000,   0.0000,   3.0000,   1.0000,   1.0000,  26.0000],\n",
      "        [  3.0000,   1.0000,  25.0000,   1.0000,   0.0000,   7.9250],\n",
      "        [  1.0000,   1.0000,  40.0000,   1.0000,   1.0000, 134.5000],\n",
      "        [  3.0000,   0.0000,  20.5000,   0.0000,   0.0000,   7.2500],\n",
      "        [  3.0000,   1.0000,  23.0000,   0.0000,   0.0000,   7.5500],\n",
      "        [  1.0000,   1.0000,  24.0000,   0.0000,   0.0000,  69.3000],\n",
      "        [  2.0000,   0.0000,  29.6991,   0.0000,   0.0000,  13.0000],\n",
      "        [  1.0000,   1.0000,  29.6991,   1.0000,   0.0000,  51.8625],\n",
      "        [  3.0000,   0.0000,  29.6991,   0.0000,   0.0000,   7.8958],\n",
      "        [  3.0000,   0.0000,  24.0000,   2.0000,   0.0000,  24.1500],\n",
      "        [  1.0000,   1.0000,  31.0000,   0.0000,   2.0000, 164.8667],\n",
      "        [  1.0000,   0.0000,  49.0000,   1.0000,   1.0000, 110.8833],\n",
      "        [  2.0000,   0.0000,  25.0000,   0.0000,   0.0000,  13.0000],\n",
      "        [  2.0000,   1.0000,  24.0000,   1.0000,   2.0000,  65.0000],\n",
      "        [  3.0000,   0.0000,  25.0000,   0.0000,   0.0000,   0.0000],\n",
      "        [  3.0000,   0.0000,  47.0000,   0.0000,   0.0000,   9.0000],\n",
      "        [  2.0000,   0.0000,  34.0000,   1.0000,   0.0000,  26.0000],\n",
      "        [  3.0000,   0.0000,  33.0000,   0.0000,   0.0000,   7.7750],\n",
      "        [  3.0000,   0.0000,  26.0000,   0.0000,   0.0000,   8.0500],\n",
      "        [  3.0000,   0.0000,   1.0000,   5.0000,   2.0000,  46.9000],\n",
      "        [  3.0000,   1.0000,  29.6991,   8.0000,   2.0000,  69.5500],\n",
      "        [  1.0000,   1.0000,  39.0000,   1.0000,   1.0000, 110.8833],\n",
      "        [  3.0000,   0.0000,  27.0000,   0.0000,   0.0000,   6.9750],\n",
      "        [  3.0000,   1.0000,  15.0000,   1.0000,   0.0000,  14.4542],\n",
      "        [  2.0000,   0.0000,  24.0000,   0.0000,   0.0000,  13.0000],\n",
      "        [  3.0000,   0.0000,  29.6991,   0.0000,   0.0000,   7.8958],\n",
      "        [  1.0000,   0.0000,  46.0000,   0.0000,   0.0000,  79.2000],\n",
      "        [  1.0000,   0.0000,  35.0000,   0.0000,   0.0000,  26.2875],\n",
      "        [  1.0000,   1.0000,  36.0000,   0.0000,   2.0000,  71.0000],\n",
      "        [  2.0000,   1.0000,   3.0000,   1.0000,   2.0000,  41.5792],\n",
      "        [  3.0000,   0.0000,  27.0000,   0.0000,   0.0000,   7.7958],\n",
      "        [  2.0000,   0.0000,  59.0000,   0.0000,   0.0000,  13.5000],\n",
      "        [  2.0000,   1.0000,  24.0000,   1.0000,   0.0000,  26.0000],\n",
      "        [  1.0000,   0.0000,  26.0000,   0.0000,   0.0000,  30.0000],\n",
      "        [  2.0000,   1.0000,  48.0000,   1.0000,   2.0000,  65.0000],\n",
      "        [  2.0000,   1.0000,  34.0000,   1.0000,   1.0000,  32.5000],\n",
      "        [  2.0000,   0.0000,   2.0000,   1.0000,   1.0000,  26.0000],\n",
      "        [  1.0000,   1.0000,  31.0000,   1.0000,   0.0000, 113.2750],\n",
      "        [  3.0000,   0.0000,  29.6991,   0.0000,   0.0000,   8.0500],\n",
      "        [  3.0000,   0.0000,  29.6991,   1.0000,   1.0000,  15.2458]],\n",
      "       dtype=torch.float64) tensor([0, 0, 1, 1, 0, 0, 1, 0, 0, 0, 1, 0, 1, 0, 1, 1, 1, 1, 0, 0, 1, 0, 0, 1,\n",
      "        1, 0, 0, 0, 0, 0, 0, 1, 1, 1, 0, 0, 0, 1, 1, 1, 1, 0, 1, 1, 1, 1, 1, 1,\n",
      "        0, 1])\n",
      "len 50\n"
     ]
    },
    {
     "ename": "TypeError",
     "evalue": "'Tensor' object is not callable",
     "output_type": "error",
     "traceback": [
      "\u001b[1;31m---------------------------------------------------------------------------\u001b[0m",
      "\u001b[1;31mTypeError\u001b[0m                                 Traceback (most recent call last)",
      "\u001b[1;32m~\\AppData\\Local\\Temp/ipykernel_7664/1799465136.py\u001b[0m in \u001b[0;36m<module>\u001b[1;34m\u001b[0m\n\u001b[0;32m      6\u001b[0m     \u001b[0mprint\u001b[0m\u001b[1;33m(\u001b[0m\u001b[0mx\u001b[0m\u001b[1;33m,\u001b[0m\u001b[0my\u001b[0m\u001b[1;33m)\u001b[0m\u001b[1;33m\u001b[0m\u001b[1;33m\u001b[0m\u001b[0m\n\u001b[0;32m      7\u001b[0m     \u001b[0mprint\u001b[0m\u001b[1;33m(\u001b[0m\u001b[1;34m\"len\"\u001b[0m\u001b[1;33m,\u001b[0m\u001b[0mlen\u001b[0m\u001b[1;33m(\u001b[0m\u001b[0my\u001b[0m\u001b[1;33m)\u001b[0m\u001b[1;33m)\u001b[0m\u001b[1;33m\u001b[0m\u001b[1;33m\u001b[0m\u001b[0m\n\u001b[1;32m----> 8\u001b[1;33m     \u001b[0mprint\u001b[0m\u001b[1;33m(\u001b[0m\u001b[1;34m\"max\"\u001b[0m\u001b[1;33m,\u001b[0m\u001b[0mmax\u001b[0m\u001b[1;33m(\u001b[0m\u001b[0my\u001b[0m\u001b[1;33m)\u001b[0m\u001b[1;33m)\u001b[0m\u001b[1;33m\u001b[0m\u001b[1;33m\u001b[0m\u001b[0m\n\u001b[0m\u001b[0;32m      9\u001b[0m     \u001b[1;32mbreak\u001b[0m\u001b[1;33m\u001b[0m\u001b[1;33m\u001b[0m\u001b[0m\n",
      "\u001b[1;31mTypeError\u001b[0m: 'Tensor' object is not callable"
     ]
    }
   ],
   "source": [
    "BATCH_SIZE = 50\n",
    "train_dataloader = DataLoader(train_dataset, batch_size=BATCH_SIZE, shuffle=True, drop_last=True)\n",
    "\n",
    "# xに入力，yにラベルが入る\n",
    "for x,y in train_dataloader:\n",
    "    print(x,y)\n",
    "    print(\"len\",len(y))\n",
    "    break\n"
   ]
  },
  {
   "cell_type": "markdown",
   "id": "2c3ff731",
   "metadata": {},
   "source": [
    "# モデル定義"
   ]
  },
  {
   "cell_type": "code",
   "execution_count": 41,
   "id": "1e049808",
   "metadata": {},
   "outputs": [],
   "source": [
    "class Net(nn.Module):\n",
    "    def __init__(self, input_sz, hidden_sz, out_sz):\n",
    "        super(Net, self).__init__()\n",
    "        self.f1 = nn.Linear(input_sz, hidden_sz)\n",
    "        self.bn1 = nn.BatchNorm1d(hidden_sz) #バッチ正規化\n",
    "        self.f2 = nn.Linear(hidden_sz, out_sz)\n",
    "        \n",
    "    def forward(self, x):\n",
    "        h1 = F.relu(self.f1(x))\n",
    "        h2 = self.bn1(h1) #バッチ正規化を行う\n",
    "        y = self.f2(h2)\n",
    "        \n",
    "        return y\n",
    "\n",
    "input_sz = 6\n",
    "hidden_sz = 3\n",
    "out_sz = 2\n",
    "net = Net(input_sz, hidden_sz, out_sz)\n"
   ]
  },
  {
   "cell_type": "markdown",
   "id": "88f92393",
   "metadata": {},
   "source": [
    "# 訓練"
   ]
  },
  {
   "cell_type": "code",
   "execution_count": 48,
   "id": "93fe0caf",
   "metadata": {},
   "outputs": [],
   "source": [
    "learning_rate = 0.01\n",
    "loss_func = nn.MSELoss(reduction=\"sum\")\n",
    "optimizer = optim.Adam(net.parameters(), lr=learning_rate)\n",
    "epoch = 32\n",
    "def train():\n",
    "    for e in range(epoch):\n",
    "        for X, labels in train_dataloader:\n",
    "            T = convert_label_to_onehot(labels)\n",
    "            y = F.softmax(net(X.float()), dim=1)\n",
    "            loss = loss_func(y, torch.FloatTensor(T))\n",
    "            loss.backward()\n",
    "            optimizer.step()\n",
    "            \n",
    "def convert_label_to_onehot(labels):\n",
    "    onehot = np.zeros((len(labels), 2))\n",
    "    idx = [(i, t.item()) for i, t in enumerate(labels)]\n",
    "    for i in idx:\n",
    "        onehot[i] = 1\n",
    "    return onehot\n",
    "\n",
    "train()\n"
   ]
  },
  {
   "cell_type": "markdown",
   "id": "15d50199",
   "metadata": {},
   "source": [
    "# テスト"
   ]
  },
  {
   "cell_type": "code",
   "execution_count": 49,
   "id": "d1c0b8d6",
   "metadata": {},
   "outputs": [
    {
     "name": "stdout",
     "output_type": "stream",
     "text": [
      "max\t tensor([0.9000, 0.8000, 0.6000])\n",
      "argmax\t tensor([1, 1, 0])\n"
     ]
    }
   ],
   "source": [
    "# torch.max()の簡単な説明\n",
    "prob = torch.tensor([[0.1, 0.9],\n",
    "                    [0.2, 0.8],\n",
    "                    [0.6, 0.4]])\n",
    "max, argmax = torch.max(prob, dim=1)\n",
    "print(\"max\\t\",max)\n",
    "print(\"argmax\\t\",argmax)"
   ]
  },
  {
   "cell_type": "code",
   "execution_count": 51,
   "id": "3eac867c",
   "metadata": {},
   "outputs": [
    {
     "name": "stdout",
     "output_type": "stream",
     "text": [
      "     PassengerId  Survived\n",
      "0            892         0\n",
      "1            893         0\n",
      "2            894         0\n",
      "3            895         0\n",
      "4            896         0\n",
      "..           ...       ...\n",
      "413         1305         0\n",
      "414         1306         0\n",
      "415         1307         0\n",
      "416         1308         0\n",
      "417         1309         0\n",
      "\n",
      "[418 rows x 2 columns]\n"
     ]
    }
   ],
   "source": [
    "def test():\n",
    "    test_X = torch.tensor(test_process_df.iloc[:,:].values)\n",
    "    test_Y = net(test_X.float())\n",
    "    survived = torch.max(test_Y, dim=1)[1]\n",
    "    sub_df = pd.DataFrame({\n",
    "                    \"PassengerId\":test_df['PassengerId'],\n",
    "                    \"Survived\":survived\n",
    "    })\n",
    "    print(sub_df)\n",
    "    return sub_df\n",
    "    \n",
    "sub_df = test()\n",
    "sub_df.to_csv(\"./submission.csv\", index=False)\n"
   ]
  },
  {
   "cell_type": "code",
   "execution_count": null,
   "id": "4d0d0565",
   "metadata": {},
   "outputs": [],
   "source": []
  },
  {
   "cell_type": "code",
   "execution_count": null,
   "id": "2c9c41e3",
   "metadata": {},
   "outputs": [],
   "source": []
  },
  {
   "cell_type": "code",
   "execution_count": null,
   "id": "4306bb85",
   "metadata": {},
   "outputs": [],
   "source": []
  },
  {
   "cell_type": "code",
   "execution_count": null,
   "id": "d0aca726",
   "metadata": {},
   "outputs": [],
   "source": []
  },
  {
   "cell_type": "code",
   "execution_count": null,
   "id": "20dd6855",
   "metadata": {},
   "outputs": [],
   "source": []
  },
  {
   "cell_type": "code",
   "execution_count": null,
   "id": "f06d725f",
   "metadata": {},
   "outputs": [],
   "source": []
  },
  {
   "cell_type": "code",
   "execution_count": null,
   "id": "264a90fe",
   "metadata": {},
   "outputs": [],
   "source": []
  },
  {
   "cell_type": "code",
   "execution_count": null,
   "id": "c9ad84eb",
   "metadata": {},
   "outputs": [],
   "source": []
  },
  {
   "cell_type": "code",
   "execution_count": null,
   "id": "40dc9963",
   "metadata": {},
   "outputs": [],
   "source": []
  },
  {
   "cell_type": "code",
   "execution_count": null,
   "id": "aa17fd1e",
   "metadata": {},
   "outputs": [],
   "source": []
  }
 ],
 "metadata": {
  "kernelspec": {
   "display_name": "Python 3 (ipykernel)",
   "language": "python",
   "name": "python3"
  },
  "language_info": {
   "codemirror_mode": {
    "name": "ipython",
    "version": 3
   },
   "file_extension": ".py",
   "mimetype": "text/x-python",
   "name": "python",
   "nbconvert_exporter": "python",
   "pygments_lexer": "ipython3",
   "version": "3.9.7"
  }
 },
 "nbformat": 4,
 "nbformat_minor": 5
}
